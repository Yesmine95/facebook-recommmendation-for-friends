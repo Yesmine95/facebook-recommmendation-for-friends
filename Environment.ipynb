{
  "nbformat": 4,
  "nbformat_minor": 0,
  "metadata": {
    "colab": {
      "name": "Untitled13.ipynb",
      "provenance": []
    },
    "kernelspec": {
      "name": "python3",
      "display_name": "Python 3"
    }
  },
  "cells": [
    {
      "cell_type": "markdown",
      "metadata": {
        "id": "aM_S8pJuggzz",
        "colab_type": "text"
      },
      "source": [
        "#**Facebook recommandation system for friends suggestion**\n",
        "\n",
        "#Environment:\n",
        "\n",
        "Reward: Linear function with feautures from the state vector.\n",
        "\n",
        "graph: contains a part of friendships graph in which appears the user \n",
        "\n",
        "Questions:  \n",
        "our user : 1 \n",
        "\n",
        "Graph =[ [1,2],[5,6],[6,1],[2,3] ] ????? or [5,3] : \n",
        "\n",
        " (2  steps to reach the user 1)\n",
        "\n",
        "\n",
        "\n",
        " \"human reward”, different from the environmental reward provided through a pre-defined reward function in traditional reinforcement learning.\n",
        "\n",
        " Steps :\n",
        "\n",
        " 1- Provide a suggestion\n",
        "\n",
        " 2- Accept or not ( 0 ou 1) \n",
        "\n",
        " 3- Chat with or not\n",
        "\n",
        " 4- Like a post or not\n",
        "\n",
        " => A vector of 3 features : interactVector of zeros or ones\n",
        "\n",
        "\n",
        "\n",
        "\n",
        "\n",
        "\n"
      ]
    },
    {
      "cell_type": "code",
      "metadata": {
        "id": "DpIaUUtcFpyk",
        "colab_type": "code",
        "colab": {}
      },
      "source": [
        "import sys\n",
        "import numpy as np"
      ],
      "execution_count": 0,
      "outputs": []
    },
    {
      "cell_type": "code",
      "metadata": {
        "id": "1wQn1B9xgdRR",
        "colab_type": "code",
        "colab": {}
      },
      "source": [
        "class Environment:\n",
        "\n",
        "    def __init__(self, graph,  seed=None):\n",
        "        self._graph = graph\n",
        "        self._nb_persons = len(graph) #Number of persons \n",
        "        #self.nb-persons = len(TraitGraph(graph))\n",
        "        self._rng = np.random.RandomState(seed)\n",
        "    \n",
        "    def step(self, suggPers, interactVector):\n",
        "        \"\"\" Suggest a person\"\"\"\n",
        "        self._reward = self.actionRewardFunction(interactVector)\n",
        "        return reward\n",
        "\n",
        "\n"
      ],
      "execution_count": 0,
      "outputs": []
    },
    {
      "cell_type": "code",
      "metadata": {
        "id": "4IVFqu_Q2mWG",
        "colab_type": "code",
        "colab": {}
      },
      "source": [
        "def actionRewardFunction(interactVector):\n",
        "    alpha =0.5\n",
        "    beta =0.2\n",
        "    gamma =0.3\n",
        "    coeff=[alpha,beta,gamma]\n",
        "    reward = np.dot(coeff,interactVector)\n",
        "    return  reward\n"
      ],
      "execution_count": 0,
      "outputs": []
    },
    {
      "cell_type": "code",
      "metadata": {
        "id": "ZUxx2t9gF3bZ",
        "colab_type": "code",
        "colab": {}
      },
      "source": [
        ""
      ],
      "execution_count": 0,
      "outputs": []
    }
  ]
}